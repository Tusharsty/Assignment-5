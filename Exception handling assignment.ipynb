{
 "cells": [
  {
   "cell_type": "code",
   "execution_count": 1,
   "metadata": {},
   "outputs": [
    {
     "name": "stdout",
     "output_type": "stream",
     "text": [
      "5\n",
      "0\n",
      "not divisible by 0\n",
      "please enter proper integer of a and b\n",
      "5\n",
      "1\n",
      "5.0\n"
     ]
    }
   ],
   "source": [
    "flag=True\n",
    "while flag == True:\n",
    "    try:\n",
    "        a=int(input())\n",
    "        b=int(input())\n",
    "        if b == 0:\n",
    "            print(\"not divisible by 0\")\n",
    "            continue\n",
    "        c=a/b\n",
    "        print(c)\n",
    "        flag=False\n",
    "    \n",
    "    except:\n",
    "        print('please enter proper integer of a and b')\n",
    "        continue"
   ]
  },
  {
   "cell_type": "code",
   "execution_count": 58,
   "metadata": {},
   "outputs": [
    {
     "name": "stdout",
     "output_type": "stream",
     "text": [
      "Americans play Baseball \n",
      "Americans play Cricket \n",
      "Americans watch Baseball \n",
      "Americans watch Cricket \n",
      "Indians play Baseball \n",
      "Indians play Cricket \n",
      "Indians watch Baseball \n",
      "Indians watch Cricket \n"
     ]
    }
   ],
   "source": [
    "subjects=[\"Americans \",\"Indians \"]\n",
    "verbs=[\"play \",\"watch \"]\n",
    "objects=[\"Baseball \",\"Cricket \"]\n",
    "\n",
    "all_sentences = [sub + ver + obj for sub in subjects for ver in verbs for obj in objects]\n",
    "for sentence in all_sentences:\n",
    "    print(sentence)"
   ]
  }
 ],
 "metadata": {
  "kernelspec": {
   "display_name": "Python 3",
   "language": "python",
   "name": "python3"
  },
  "language_info": {
   "codemirror_mode": {
    "name": "ipython",
    "version": 3
   },
   "file_extension": ".py",
   "mimetype": "text/x-python",
   "name": "python",
   "nbconvert_exporter": "python",
   "pygments_lexer": "ipython3",
   "version": "3.8.3"
  }
 },
 "nbformat": 4,
 "nbformat_minor": 4
}
